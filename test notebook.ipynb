{
    "cells": [
        {
            "cell_type": "markdown",
            "metadata": {},
            "source": "Test notebook\n"
        },
        {
            "cell_type": "code",
            "execution_count": 1,
            "metadata": {},
            "outputs": [
                {
                    "data": {
                        "text/html": "<div>\n<style scoped>\n    .dataframe tbody tr th:only-of-type {\n        vertical-align: middle;\n    }\n\n    .dataframe tbody tr th {\n        vertical-align: top;\n    }\n\n    .dataframe thead th {\n        text-align: right;\n    }\n</style>\n<table border=\"1\" class=\"dataframe\">\n  <thead>\n    <tr style=\"text-align: right;\">\n      <th></th>\n      <th>Sum of Parts quantity</th>\n      <th>Unnamed: 1</th>\n      <th>Unnamed: 2</th>\n      <th>Years</th>\n      <th>Quarters</th>\n      <th>Date</th>\n      <th>Unnamed: 6</th>\n      <th>Unnamed: 7</th>\n      <th>Unnamed: 8</th>\n      <th>Unnamed: 9</th>\n      <th>Unnamed: 10</th>\n      <th>Unnamed: 11</th>\n    </tr>\n  </thead>\n  <tbody>\n    <tr>\n      <th>0</th>\n      <td>NaN</td>\n      <td>NaN</td>\n      <td>NaN</td>\n      <td>2015.0</td>\n      <td>2016.0</td>\n      <td>2017.0</td>\n      <td>2018.0</td>\n      <td>2019.0</td>\n      <td>2020.0</td>\n      <td>2021.0</td>\n      <td>2022.0</td>\n      <td>Grand Total</td>\n    </tr>\n    <tr>\n      <th>1</th>\n      <td>NaN</td>\n      <td>NaN</td>\n      <td>NaN</td>\n      <td>NaN</td>\n      <td>NaN</td>\n      <td>NaN</td>\n      <td>NaN</td>\n      <td>NaN</td>\n      <td>NaN</td>\n      <td>NaN</td>\n      <td>NaN</td>\n      <td>NaN</td>\n    </tr>\n    <tr>\n      <th>2</th>\n      <td>Origin</td>\n      <td>Product series</td>\n      <td>Product type description</td>\n      <td>NaN</td>\n      <td>NaN</td>\n      <td>NaN</td>\n      <td>NaN</td>\n      <td>NaN</td>\n      <td>NaN</td>\n      <td>NaN</td>\n      <td>NaN</td>\n      <td>NaN</td>\n    </tr>\n    <tr>\n      <th>3</th>\n      <td>Call</td>\n      <td>Helios</td>\n      <td>Helios 5 HP</td>\n      <td>NaN</td>\n      <td>NaN</td>\n      <td>NaN</td>\n      <td>NaN</td>\n      <td>NaN</td>\n      <td>NaN</td>\n      <td>NaN</td>\n      <td>0.0</td>\n      <td>0</td>\n    </tr>\n    <tr>\n      <th>4</th>\n      <td>NaN</td>\n      <td>NaN</td>\n      <td>Helios G4 CX</td>\n      <td>NaN</td>\n      <td>NaN</td>\n      <td>1.0</td>\n      <td>2.0</td>\n      <td>5.0</td>\n      <td>7.0</td>\n      <td>10.0</td>\n      <td>0.0</td>\n      <td>25</td>\n    </tr>\n  </tbody>\n</table>\n</div>",
                        "text/plain": "  Sum of Parts quantity      Unnamed: 1                Unnamed: 2   Years  \\\n0                   NaN             NaN                       NaN  2015.0   \n1                   NaN             NaN                       NaN     NaN   \n2                Origin  Product series  Product type description     NaN   \n3                  Call          Helios               Helios 5 HP     NaN   \n4                   NaN             NaN              Helios G4 CX     NaN   \n\n   Quarters    Date  Unnamed: 6  Unnamed: 7  Unnamed: 8  Unnamed: 9  \\\n0    2016.0  2017.0      2018.0      2019.0      2020.0      2021.0   \n1       NaN     NaN         NaN         NaN         NaN         NaN   \n2       NaN     NaN         NaN         NaN         NaN         NaN   \n3       NaN     NaN         NaN         NaN         NaN         NaN   \n4       NaN     1.0         2.0         5.0         7.0        10.0   \n\n   Unnamed: 10  Unnamed: 11  \n0       2022.0  Grand Total  \n1          NaN          NaN  \n2          NaN          NaN  \n3          0.0            0  \n4          0.0           25  "
                    },
                    "execution_count": 1,
                    "metadata": {},
                    "output_type": "execute_result"
                }
            ],
            "source": "# The code was removed by Watson Studio for sharing."
        }
    ],
    "metadata": {
        "kernelspec": {
            "display_name": "Python 3.9",
            "language": "python",
            "name": "python3"
        },
        "language_info": {
            "codemirror_mode": {
                "name": "ipython",
                "version": 3
            },
            "file_extension": ".py",
            "mimetype": "text/x-python",
            "name": "python",
            "nbconvert_exporter": "python",
            "pygments_lexer": "ipython3",
            "version": "3.9.12"
        }
    },
    "nbformat": 4,
    "nbformat_minor": 1
}