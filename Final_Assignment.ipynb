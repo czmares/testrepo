{
  "metadata": {
    "language_info": {
      "codemirror_mode": {
        "name": "python",
        "version": 3
      },
      "file_extension": ".py",
      "mimetype": "text/x-python",
      "name": "python",
      "nbconvert_exporter": "python",
      "pygments_lexer": "ipython3",
      "version": "3.8"
    },
    "kernelspec": {
      "name": "python",
      "display_name": "Pyolite",
      "language": "python"
    }
  },
  "nbformat_minor": 4,
  "nbformat": 4,
  "cells": [
    {
      "cell_type": "markdown",
      "source": "# \"My jupyter Notebook on IBM Watson Studio\"",
      "metadata": {}
    },
    {
      "cell_type": "markdown",
      "source": "**Marco A. R. Escalier Rivera**<br>\nI work as Product Manager",
      "metadata": {}
    },
    {
      "cell_type": "markdown",
      "source": "*I am interested in data science due to its potential to support and simplify day to day tasks bringing hiher productivity in future*",
      "metadata": {}
    },
    {
      "cell_type": "markdown",
      "source": "### The code below makes an average of the variable numbers printing the average",
      "metadata": {}
    },
    {
      "cell_type": "code",
      "source": "numbers = [1,2,3,4,5,1,4,5]\n  \n# start = 10\nSum = sum(numbers)\naverage= Sum/len(numbers) \nprint (average) ",
      "metadata": {
        "trusted": true
      },
      "execution_count": 5,
      "outputs": [
        {
          "name": "stdout",
          "text": "3.125\n",
          "output_type": "stream"
        }
      ]
    },
    {
      "cell_type": "markdown",
      "source": "1. Numbered list item One\n    * Bulleted list item one\n    * Bulleted list item two\n    * Bulleted list item three\n2. Numbered list item two\n\n\n| Table line 1 | Table line 2 |\n| ------ | ------ |\n| cell 1,1 | cell 1,2 |\n\n<h1><center>Thanks for review have a great day!</center></h1>\n",
      "metadata": {}
    }
  ]
}